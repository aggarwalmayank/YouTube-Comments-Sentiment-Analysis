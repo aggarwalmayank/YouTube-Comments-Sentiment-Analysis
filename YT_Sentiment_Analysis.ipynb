{
 "cells": [
  {
   "cell_type": "code",
   "execution_count": null,
   "metadata": {},
   "outputs": [],
   "source": [
    "from apiclient.discovery import build\n",
    "from apiclient.errors import HttpError\n",
    "from oauth2client.tools import argparser\n",
    "import pafy\n",
    "import csv\n",
    "from importlib import reload\n",
    "from nltk.corpus import stopwords \n",
    "from nltk.tokenize import word_tokenize \n",
    "import re\n",
    "import sys\n",
    "from textblob import TextBlob\n",
    "import matplotlib.pyplot as plt\n",
    "%matplotlib inline"
   ]
  },
  {
   "cell_type": "code",
   "execution_count": null,
   "metadata": {},
   "outputs": [],
   "source": [
    "\n",
    "DEVELOPER_KEY = \"YOUR API KEY\"\n",
    "YOUTUBE_API_SERVICE_NAME = \"youtube\"\n",
    "YOUTUBE_API_VERSION = \"v3\"\n",
    "youtube = build(YOUTUBE_API_SERVICE_NAME, YOUTUBE_API_VERSION,developerKey=DEVELOPER_KEY)"
   ]
  },
  {
   "cell_type": "code",
   "execution_count": null,
   "metadata": {},
   "outputs": [],
   "source": [
    "videoId =(input(\"Enter video id \"))\n",
    "url = \"https://www.youtube.com/watch?v=\" + videoId\n",
    "video = pafy.new(url)"
   ]
  },
  {
   "cell_type": "code",
   "execution_count": null,
   "metadata": {},
   "outputs": [],
   "source": [
    "def getcomments():\n",
    "    results = youtube.commentThreads().list(\n",
    "            part=\"snippet\",\n",
    "            maxResults=100,\n",
    "            videoId=videoId,\n",
    "            textFormat=\"plainText\"\n",
    "            ).execute()\n",
    "    totalResults = 0\n",
    "    totalResults = int(results[\"pageInfo\"][\"totalResults\"])\n",
    "    count = 0\n",
    "    nextPageToken = ''\n",
    "    comments = []\n",
    "    further = True\n",
    "    first = True\n",
    "    while further:\n",
    "        halt = False\n",
    "        if first == False:\n",
    "            try:\n",
    "                results = youtube.commentThreads().list(\n",
    "                part=\"snippet\",\n",
    "                maxResults=100,\n",
    "                videoId=videoId,\n",
    "                textFormat=\"plainText\",\n",
    "                pageToken=nextPageToken\n",
    "                ).execute()\n",
    "                totalResults = int(results[\"pageInfo\"][\"totalResults\"])\n",
    "            except e:\n",
    "                print (\"An HTTP error\"+e.resp.status+\" \"+\"occurred:\\n\" +e.content)\n",
    "                halt = True\n",
    "        if halt == False:\n",
    "            count += totalResults\n",
    "            for item in results[\"items\"]:\n",
    "                comment = item[\"snippet\"][\"topLevelComment\"]\n",
    "                text = comment[\"snippet\"][\"textDisplay\"]\n",
    "                comments.append(text)\n",
    "            if totalResults < 100:\n",
    "                further = False\n",
    "                first = False\n",
    "            else:\n",
    "                further = True\n",
    "                first = False\n",
    "                try:\n",
    "                    nextPageToken = results[\"nextPageToken\"]\n",
    "                except e:\n",
    "                    print (\"An KeyError error occurred: \"+e)\n",
    "                    further = False\n",
    "    return comments "
   ]
  },
  {
   "cell_type": "code",
   "execution_count": null,
   "metadata": {},
   "outputs": [],
   "source": [
    "def preprocessing(comment):\n",
    "    a=[]\n",
    "    stop_words = set(stopwords.words('english'))\n",
    "    for c in comment:\n",
    "        com=\"\"\n",
    "        b=re.sub('[^A-Za-z0-9 ]+', '', c)\n",
    "        word_tokens = word_tokenize(b)\n",
    "        for w in word_tokens: \n",
    "            if w not in stop_words: \n",
    "                com=com+\" \"+w.lower()\n",
    "        a.append(com)\n",
    "    return a\n",
    "\n",
    "    "
   ]
  },
  {
   "cell_type": "code",
   "execution_count": null,
   "metadata": {},
   "outputs": [],
   "source": [
    "pos=[]\n",
    "neg=[]\n",
    "neutral=[]\n",
    "for x in preprocessing(getcomments()):\n",
    "    if TextBlob(x).sentiment[0] >=0.3:\n",
    "        pos.append(x)\n",
    "    elif TextBlob(x).sentiment[0] <=-0.3:\n",
    "        neg.append(x)\n",
    "    else:\n",
    "        neutral.append(x)"
   ]
  },
  {
   "cell_type": "code",
   "execution_count": null,
   "metadata": {},
   "outputs": [],
   "source": [
    "fig = plt.figure(figsize=(10,10))\n",
    "bar=plt.bar(x = [\"Possitive\",\"Neutral\",\"Negative\"],height = [len(pos),len(neutral),len(neg)])\n",
    "plt.title(\"YouTube Comments Sentiment Analysis\")\n",
    "plt.xlabel(\"Comment Sentiment\")\n",
    "plt.ylabel(\"Count\")\n",
    "bar[0].set_color('g')\n",
    "bar[1].set_color('b')\n",
    "bar[2].set_color('r')\n",
    "plt.show()"
   ]
  },
  {
   "cell_type": "code",
   "execution_count": null,
   "metadata": {},
   "outputs": [],
   "source": [
    "for x in pos:\n",
    "    print (x)\n",
    "print(\"###########################################################################\")\n",
    "for x in neutral:\n",
    "    print(x)\n",
    "print(\"###########################################################################\")\n",
    "for x in neg:\n",
    "    print(x)"
   ]
  },
  {
   "cell_type": "code",
   "execution_count": null,
   "metadata": {},
   "outputs": [],
   "source": []
  }
 ],
 "metadata": {
  "kernelspec": {
   "display_name": "Python 3",
   "language": "python",
   "name": "python3"
  },
  "language_info": {
   "codemirror_mode": {
    "name": "ipython",
    "version": 3
   },
   "file_extension": ".py",
   "mimetype": "text/x-python",
   "name": "python",
   "nbconvert_exporter": "python",
   "pygments_lexer": "ipython3",
   "version": "3.7.4"
  }
 },
 "nbformat": 4,
 "nbformat_minor": 2
}
